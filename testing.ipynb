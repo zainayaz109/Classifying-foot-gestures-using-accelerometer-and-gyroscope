{
 "cells": [
  {
   "cell_type": "code",
   "execution_count": 42,
   "metadata": {
    "executionInfo": {
     "elapsed": 4,
     "status": "ok",
     "timestamp": 1680808423011,
     "user": {
      "displayName": "Zain Ayaz",
      "userId": "12098841355238463073"
     },
     "user_tz": -300
    },
    "id": "i68PBx1A5rGf"
   },
   "outputs": [],
   "source": [
    "# Importing Libraries\n",
    "import random\n",
    "import numpy as np\n",
    "import pandas as pd\n",
    "from scipy import stats\n",
    "from scipy.signal import find_peaks\n",
    "import seaborn as sns\n",
    "import matplotlib.pyplot as plt\n",
    "%matplotlib inline\n",
    "from joblib import load, dump\n",
    "\n",
    "import warnings\n",
    "warnings.filterwarnings(\"ignore\")"
   ]
  },
  {
   "cell_type": "markdown",
   "metadata": {
    "id": "TF2TYvYfWkE8"
   },
   "source": [
    "# **Statistical Measures**"
   ]
  },
  {
   "cell_type": "code",
   "execution_count": 43,
   "metadata": {
    "executionInfo": {
     "elapsed": 386,
     "status": "ok",
     "timestamp": 1680808431376,
     "user": {
      "displayName": "Zain Ayaz",
      "userId": "12098841355238463073"
     },
     "user_tz": -300
    },
    "id": "MEYA7jK1T3UK"
   },
   "outputs": [],
   "source": [
    "lambda_functions = {\n",
    "    'mean': lambda x: x.max(),\n",
    "    'std': lambda x: x.std(),\n",
    "    'aad': lambda x: np.mean(np.absolute(x - np.mean(x))),\n",
    "    'min': lambda x: x.min(),\n",
    "    'max': lambda x: x.max(),\n",
    "    'meadian': lambda x: np.median(x),\n",
    "    'mad': lambda x: np.median(np.absolute(x - np.median(x))),\n",
    "    'iqr': lambda x: np.percentile(x, 75) - np.percentile(x, 25),\n",
    "    'neg_count': lambda x: np.sum(x < 0),\n",
    "    'pos_count': lambda x: np.sum(x > 0),\n",
    "    'above_mean': lambda x: np.sum(x > x.mean()),\n",
    "    'peak_count': lambda x: len(find_peaks(x)[0]),\n",
    "    'skewness': lambda x: stats.skew(x),\n",
    "    'kurtosis': lambda x: stats.kurtosis(x),\n",
    "    'energy': lambda x: np.sum(x**2)/100,  \n",
    "}"
   ]
  },
  {
   "cell_type": "code",
   "execution_count": 48,
   "metadata": {
    "executionInfo": {
     "elapsed": 1215,
     "status": "ok",
     "timestamp": 1680808542674,
     "user": {
      "displayName": "Zain Ayaz",
      "userId": "12098841355238463073"
     },
     "user_tz": -300
    },
    "id": "69Pvaw3JVaau"
   },
   "outputs": [],
   "source": [
    "def preprocess(df):\n",
    "    ax_list, ay_list, az_list = [], [], []\n",
    "    gx_list, gy_list, gz_list = [], [], []\n",
    "\n",
    "    window_size = 50\n",
    "    step_size = 10\n",
    "\n",
    "    # creating overlaping windows of size window-size\n",
    "    ax = df['ax'].values[:window_size]\n",
    "    ay = df['ay'].values[:window_size]\n",
    "    az = df['az'].values[:window_size]\n",
    "\n",
    "    gx = df['gx'].values[:window_size]\n",
    "    gy = df['gy'].values[:window_size]\n",
    "    gz = df['gz'].values[:window_size]\n",
    "\n",
    "    ax_list.append(ax)\n",
    "    ay_list.append(ay)\n",
    "    az_list.append(az)\n",
    "\n",
    "    gx_list.append(gx)\n",
    "    gy_list.append(gy)\n",
    "    gz_list.append(gz)\n",
    "\n",
    "    # converting the signals from time domain to frequency domain using FFT\n",
    "    ax_list_fft = pd.Series(ax_list).apply(lambda x: np.abs(np.fft.fft(x))[1:step_size+1])\n",
    "    ay_list_fft = pd.Series(ay_list).apply(lambda x: np.abs(np.fft.fft(x))[1:step_size+1])\n",
    "    az_list_fft = pd.Series(az_list).apply(lambda x: np.abs(np.fft.fft(x))[1:step_size+1])\n",
    "\n",
    "    gx_list_fft = pd.Series(gx_list).apply(lambda x: np.abs(np.fft.fft(x))[1:step_size+1])\n",
    "    gy_list_fft = pd.Series(gy_list).apply(lambda x: np.abs(np.fft.fft(x))[1:step_size+1])\n",
    "    gz_list_fft = pd.Series(gz_list).apply(lambda x: np.abs(np.fft.fft(x))[1:step_size+1])\n",
    "\n",
    "    df_new = pd.DataFrame()\n",
    "    for key, value in lambda_functions.items():\n",
    "        df_new[f'ax_{key}'] = pd.Series(ax_list).apply(value)\n",
    "        df_new[f'ay_{key}'] = pd.Series(ay_list).apply(value)\n",
    "        df_new[f'az_{key}'] = pd.Series(az_list).apply(value)\n",
    "\n",
    "        df_new[f'gx_{key}'] = pd.Series(gx_list).apply(value)\n",
    "        df_new[f'gy_{key}'] = pd.Series(gy_list).apply(value)\n",
    "        df_new[f'gz_{key}'] = pd.Series(gz_list).apply(value)\n",
    "\n",
    "        df_new[f'ax_{key}_fft'] = pd.Series(ax_list_fft).apply(value)\n",
    "        df_new[f'ay_{key}_fft'] = pd.Series(ay_list_fft).apply(value)\n",
    "        df_new[f'az_{key}_fft'] = pd.Series(az_list_fft).apply(value)\n",
    "\n",
    "        df_new[f'gx_{key}_fft'] = pd.Series(gx_list_fft).apply(value)\n",
    "        df_new[f'gy_{key}_fft'] = pd.Series(gy_list_fft).apply(value)\n",
    "        df_new[f'gz_{key}_fft'] = pd.Series(gz_list_fft).apply(value)\n",
    "\n",
    "    df_new['ax_maxmin_diff'] = df_new['ax_max'] - df_new['ax_min']\n",
    "    df_new['ay_maxmin_diff'] = df_new['ay_max'] - df_new['ay_min']\n",
    "    df_new['az_maxmin_diff'] = df_new['az_max'] - df_new['az_min']\n",
    "\n",
    "    df_new['gx_maxmin_diff'] = df_new['gx_max'] - df_new['gx_min']\n",
    "    df_new['gy_maxmin_diff'] = df_new['gy_max'] - df_new['gy_min']\n",
    "    df_new['gz_maxmin_diff'] = df_new['gz_max'] - df_new['gz_min']\n",
    "\n",
    "    df_new['ax_maxmin_diff_fft'] = df_new['ax_max_fft'] - df_new['ax_min_fft']\n",
    "    df_new['ay_maxmin_diff_fft'] = df_new['ay_max_fft'] - df_new['ay_min_fft']\n",
    "    df_new['az_maxmin_diff_fft'] = df_new['az_max_fft'] - df_new['az_min_fft']\n",
    "\n",
    "    df_new['gx_maxmin_diff_fft'] = df_new['gx_max_fft'] - df_new['gx_min_fft']\n",
    "    df_new['gy_maxmin_diff_fft'] = df_new['gy_max_fft'] - df_new['gy_min_fft']\n",
    "    df_new['gz_maxmin_diff_fft'] = df_new['gz_max_fft'] - df_new['gz_min_fft']\n",
    "\n",
    "    # avg resultant\n",
    "    df_new['a_avg_result'] = [i.mean() for i in ((pd.Series(ax_list)**2 + pd.Series(ay_list)**2 + pd.Series(az_list)**2)**0.5)]\n",
    "    df_new['g_avg_result'] = [i.mean() for i in ((pd.Series(gx_list)**2 + pd.Series(gy_list)**2 + pd.Series(gz_list)**2)**0.5)]\n",
    "\n",
    "    df_new['a_avg_result_fft'] = [i.mean() for i in ((pd.Series(ax_list_fft)**2 + pd.Series(ay_list_fft)**2 + pd.Series(az_list_fft)**2)**0.5)]\n",
    "    df_new['g_avg_result_fft'] = [i.mean() for i in ((pd.Series(gx_list_fft)**2 + pd.Series(gy_list_fft)**2 + pd.Series(gz_list_fft)**2)**0.5)]\n",
    "\n",
    "\n",
    "    # signal magnitude area\n",
    "    df_new['a_sma'] = pd.Series(ax_list).apply(lambda x: np.sum(abs(x)/100)) \\\n",
    "                    + pd.Series(ay_list).apply(lambda x: np.sum(abs(x)/100)) \\\n",
    "                    + pd.Series(az_list).apply(lambda x: np.sum(abs(x)/100))\n",
    "    df_new['g_sma'] = pd.Series(gx_list).apply(lambda x: np.sum(abs(x)/100)) \\\n",
    "                    + pd.Series(gy_list).apply(lambda x: np.sum(abs(x)/100)) \\\n",
    "                    + pd.Series(gz_list).apply(lambda x: np.sum(abs(x)/100))\n",
    "\n",
    "    df_new['a_sma_fft'] = pd.Series(ax_list_fft).apply(lambda x: np.sum(abs(x)/100)) \\\n",
    "                    + pd.Series(ay_list_fft).apply(lambda x: np.sum(abs(x)/100)) \\\n",
    "                    + pd.Series(az_list_fft).apply(lambda x: np.sum(abs(x)/100))\n",
    "    df_new['g_sma_fft'] = pd.Series(gx_list_fft).apply(lambda x: np.sum(abs(x)/100)) \\\n",
    "                    + pd.Series(gy_list_fft).apply(lambda x: np.sum(abs(x)/100)) \\\n",
    "                    + pd.Series(gz_list_fft).apply(lambda x: np.sum(abs(x)/100))\n",
    "\n",
    "    return df_new"
   ]
  },
  {
   "cell_type": "code",
   "execution_count": 45,
   "metadata": {
    "executionInfo": {
     "elapsed": 3,
     "status": "ok",
     "timestamp": 1680808435669,
     "user": {
      "displayName": "Zain Ayaz",
      "userId": "12098841355238463073"
     },
     "user_tz": -300
    },
    "id": "yi9hoPSR8v7C"
   },
   "outputs": [],
   "source": [
    "scaler = load('./weights/scaler.joblib')\n",
    "model = load('./weights/SVC.joblib')"
   ]
  },
  {
   "cell_type": "markdown",
   "metadata": {},
   "source": [
    "# For Dummy Data Testing"
   ]
  },
  {
   "cell_type": "code",
   "execution_count": 46,
   "metadata": {
    "executionInfo": {
     "elapsed": 647,
     "status": "ok",
     "timestamp": 1680808474859,
     "user": {
      "displayName": "Zain Ayaz",
      "userId": "12098841355238463073"
     },
     "user_tz": -300
    },
    "id": "4hEvTDv09dHa"
   },
   "outputs": [],
   "source": [
    "def generate_fake_data():\n",
    "    df = pd.DataFrame([[np.random.uniform() for i in range(6)]], columns = ['ax', 'ay', 'az', 'gx', 'gy', 'gz'])\n",
    "    return df"
   ]
  },
  {
   "cell_type": "code",
   "execution_count": 1,
   "metadata": {
    "colab": {
     "base_uri": "https://localhost:8080/"
    },
    "executionInfo": {
     "elapsed": 6553,
     "status": "ok",
     "timestamp": 1680808713814,
     "user": {
      "displayName": "Zain Ayaz",
      "userId": "12098841355238463073"
     },
     "user_tz": -300
    },
    "id": "ZDBVS8v39XEc",
    "outputId": "c0cd0af1-763b-494c-e57d-674e03371a94"
   },
   "outputs": [],
   "source": [
    "df = generate_fake_data()\n",
    "i = 0\n",
    "while i < 100:\n",
    "    i += 1\n",
    "    if len(df) < 50:\n",
    "        df = df.append(generate_fake_data()).reset_index(drop=True)\n",
    "    else:\n",
    "        df = df.append(generate_fake_data()).iloc[1:].reset_index(drop=True)\n",
    "        data = preprocess(df)\n",
    "        X = scaler.transform(data.values)\n",
    "        target = int(model.predict(X)[0])\n",
    "        print(\"target:\", target)"
   ]
  },
  {
   "cell_type": "code",
   "execution_count": null,
   "metadata": {
    "id": "L8w-2be5AJGJ"
   },
   "outputs": [],
   "source": []
  }
 ],
 "metadata": {
  "colab": {
   "authorship_tag": "ABX9TyOaMICbTorEgeN1bK3k4L7w",
   "provenance": []
  },
  "kernelspec": {
   "display_name": "Python 3 (ipykernel)",
   "language": "python",
   "name": "python3"
  },
  "language_info": {
   "codemirror_mode": {
    "name": "ipython",
    "version": 3
   },
   "file_extension": ".py",
   "mimetype": "text/x-python",
   "name": "python",
   "nbconvert_exporter": "python",
   "pygments_lexer": "ipython3",
   "version": "3.9.12"
  }
 },
 "nbformat": 4,
 "nbformat_minor": 1
}
